{
 "cells": [
  {
   "cell_type": "code",
   "execution_count": 49,
   "metadata": {},
   "outputs": [
    {
     "name": "stdout",
     "output_type": "stream",
     "text": [
      "------------table_name------------\n",
      "[b'emp', b'mytable', b'mytable10', b'mytable2', b'mytable3', b'mytable4', b'mytable5', b'mytable6', b'mytable7', b'mytable8', b'mytable9', b'stat', b'student', b'traxen_data', b'word']\n"
     ]
    }
   ],
   "source": [
    "# -*- coding: utf-8 -*-\n",
    "\"\"\"\n",
    "Created on Sat Dec  1 19:39:45 2018\n",
    "\n",
    "@author: xinyu\n",
    "\"\"\"\n",
    "\n",
    "import happybase\n",
    "#connect\n",
    "connection = happybase.Connection('192.168.118.113')\n",
    "connection.open()\n",
    "print('------------table_name------------')\n",
    "print(connection.tables())\n",
    "connection.close()"
   ]
  },
  {
   "cell_type": "code",
   "execution_count": 48,
   "metadata": {},
   "outputs": [
    {
     "name": "stdout",
     "output_type": "stream",
     "text": [
      "------------table_name------------\n",
      "[b'data']\n",
      "inserting 100000 records uses:  0:00:17.411832 s\n",
      "now, the total number of records is:100014\n"
     ]
    }
   ],
   "source": [
    "import csv\n",
    "import happybase\n",
    "from datetime import datetime\n",
    "\n",
    "batch_size = 100000\n",
    "host = '192.168.118.113'\n",
    "namespace = \"traxen\"\n",
    "table_name = \"data\"\n",
    "\n",
    "conn = happybase.Connection(host = host,\n",
    "    table_prefix = namespace,\n",
    "    table_prefix_separator = \"_\")\n",
    "conn.open()\n",
    "print('------------table_name------------')\n",
    "print(conn.tables())\n",
    "table = conn.table(table_name)\n",
    "start=datetime.now()\n",
    "batch = table.batch(batch_size = 100000)\n",
    "\n",
    "try:\n",
    "    for i in range(100000):\n",
    "        batch.put('test' + str(i), {'truckID:1': '999', 'company:title': 'meijer', 'log:acc1': '34', 'log:acc2': '33'})\n",
    "    batch.send()\n",
    "    \n",
    "finally:\n",
    "    print ('inserting 100000 records uses:  ' + str(datetime.now()-start) + ' s')\n",
    "    count = 0\n",
    "    for key, value in table.scan(filter='FirstKeyOnlyFilter() AND KeyOnlyFilter()'):\n",
    "        count += 1\n",
    "    print ('now, the total number of records is:' + str(count))\n",
    "    conn.close()\n"
   ]
  },
  {
   "cell_type": "code",
   "execution_count": 50,
   "metadata": {},
   "outputs": [
    {
     "name": "stdout",
     "output_type": "stream",
     "text": [
      "-------------------fileter_row------------------------\n",
      "b'file_123' {b'company:title': b'meijer', b'log:acc1': b'34', b'log:acc2': b'33', b'truckID:1': b'999'}\n",
      "b'file_124' {b'company:title': b'meijer', b'log:acc1': b'35', b'log:acc2': b'34', b'truckID:1': b'999'}\n",
      "b'file_125' {b'company:title': b'meijer', b'log:acc1': b'36', b'log:acc2': b'35', b'truckID:1': b'999'}\n",
      "b'file_126' {b'company:title': b'meijer', b'log:GPS': b'633', b'log:XBR': b'534', b'truckID:1': b'999'}\n",
      "b'file_127' {b'company:title': b'meijer', b'log:GPS': b'634', b'log:XBR': b'535', b'truckID:1': b'999'}\n",
      "b'file_128' {b'company:title': b'meijer', b'log:GPS': b'635', b'log:XBR': b'536', b'truckID:1': b'999'}\n",
      "b'file_129' {b'company:title': b'meijer', b'log:ENG': b'734', b'log:MODE': b'3', b'log:STAT': b'on', b'truckID:1': b'999'}\n"
     ]
    }
   ],
   "source": [
    "import happybase\n",
    "#connect\n",
    "connection = happybase.Connection('192.168.118.113', table_prefix='traxen')\n",
    "connection.open()\n",
    "table = connection.table('data')\n",
    "print('-------------------fileter_row------------------------')\n",
    "for key, value in table.scan(row_start='file_123', row_stop='file_130'):\n",
    "    print (key, value)\n",
    "connection.close()"
   ]
  },
  {
   "cell_type": "code",
   "execution_count": 67,
   "metadata": {},
   "outputs": [
    {
     "name": "stdout",
     "output_type": "stream",
     "text": [
      "b'file_123' {b'company:title': b'meijer', b'log:acc1': b'34', b'log:acc2': b'33', b'truckID:1': b'999'}\n",
      "b'file_124' {b'company:title': b'meijer', b'log:acc1': b'35', b'log:acc2': b'34', b'truckID:1': b'999'}\n",
      "b'file_125' {b'company:title': b'meijer', b'log:acc1': b'36', b'log:acc2': b'35', b'truckID:1': b'999'}\n",
      "b'file_126' {b'company:title': b'meijer', b'log:GPS': b'633', b'log:XBR': b'534', b'truckID:1': b'999'}\n",
      "b'file_127' {b'company:title': b'meijer', b'log:GPS': b'634', b'log:XBR': b'535', b'truckID:1': b'999'}\n",
      "b'file_128' {b'company:title': b'meijer', b'log:GPS': b'635', b'log:XBR': b'536', b'truckID:1': b'999'}\n",
      "b'file_129' {b'company:title': b'meijer', b'log:ENG': b'734', b'log:MODE': b'3', b'log:STAT': b'on', b'truckID:1': b'999'}\n",
      "-------------------column_fileter------------------------\n",
      "b'file_127' {b'company:title': b'meijer', b'log:GPS': b'634', b'log:XBR': b'535', b'truckID:1': b'999'}\n",
      "b'file_128' {b'company:title': b'meijer', b'log:GPS': b'635', b'log:XBR': b'536', b'truckID:1': b'999'}\n"
     ]
    }
   ],
   "source": [
    "import happybase\n",
    "#connect\n",
    "connection = happybase.Connection('192.168.118.113', table_prefix='traxen')\n",
    "connection.open()\n",
    "table = connection.table('data')\n",
    "for key, value in table.scan(row_start='file_123', row_stop='file_130'):\n",
    "    print (key, value)\n",
    "print('-------------------column_fileter------------------------')\n",
    "filterStr = \"SingleColumnValueFilter('log', 'GPS', >=, 'binary:634', true, false)\"\n",
    "for key, value in table.scan(row_start='file_123', row_stop='file_130', \\\n",
    "                             filter=filterStr):\n",
    "    print (key, value)\n",
    "connection.close()"
   ]
  },
  {
   "cell_type": "code",
   "execution_count": null,
   "metadata": {
    "collapsed": true
   },
   "outputs": [],
   "source": []
  }
 ],
 "metadata": {
  "kernelspec": {
   "display_name": "Python 3",
   "language": "python",
   "name": "python3"
  },
  "language_info": {
   "codemirror_mode": {
    "name": "ipython",
    "version": 3
   },
   "file_extension": ".py",
   "mimetype": "text/x-python",
   "name": "python",
   "nbconvert_exporter": "python",
   "pygments_lexer": "ipython3",
   "version": "3.6.2"
  }
 },
 "nbformat": 4,
 "nbformat_minor": 2
}
